{
  "nbformat": 4,
  "nbformat_minor": 0,
  "metadata": {
    "colab": {
      "provenance": [],
      "authorship_tag": "ABX9TyNXo4DWeAutLlXPcuggPUN0",
      "include_colab_link": true
    },
    "kernelspec": {
      "name": "python3",
      "display_name": "Python 3"
    },
    "language_info": {
      "name": "python"
    }
  },
  "cells": [
    {
      "cell_type": "markdown",
      "metadata": {
        "id": "view-in-github",
        "colab_type": "text"
      },
      "source": [
        "<a href=\"https://colab.research.google.com/github/monindew/Hands-on-ML/blob/main/Hands_on_08.ipynb\" target=\"_parent\"><img src=\"https://colab.research.google.com/assets/colab-badge.svg\" alt=\"Open In Colab\"/></a>"
      ]
    },
    {
      "cell_type": "code",
      "execution_count": 1,
      "metadata": {
        "id": "3aYs6l0rwCDs"
      },
      "outputs": [],
      "source": [
        "import numpy as np\n",
        "from sklearn.cluster import KMeans\n",
        "from sklearn.datasets import make_blobs\n",
        "\n",
        "blob_centers = np.array([[ 0.2,  2.3], [-1.5 ,  2.3], [-2.8,  1.8],\n",
        "                         [-2.8,  2.8], [-2.8,  1.3]])\n",
        "blob_std = np.array([0.4, 0.3, 0.1, 0.1, 0.1])\n",
        "X, y = make_blobs(n_samples=2000, centers=blob_centers, cluster_std=blob_std,\n",
        "                  random_state=7)\n",
        "\n",
        "k = 5\n",
        "kmeans = KMeans(n_clusters=k, n_init=10, random_state=42)\n",
        "y_pred = kmeans.fit_predict(X)"
      ]
    },
    {
      "cell_type": "code",
      "source": [
        "y_pred"
      ],
      "metadata": {
        "colab": {
          "base_uri": "https://localhost:8080/"
        },
        "id": "NQgSdhncwNTC",
        "outputId": "cc5149e8-9199-49e7-b160-00fff023da9b"
      },
      "execution_count": 2,
      "outputs": [
        {
          "output_type": "execute_result",
          "data": {
            "text/plain": [
              "array([0, 0, 4, ..., 3, 1, 0], dtype=int32)"
            ]
          },
          "metadata": {},
          "execution_count": 2
        }
      ]
    },
    {
      "cell_type": "code",
      "source": [
        "y_pred is kmeans.labels_"
      ],
      "metadata": {
        "colab": {
          "base_uri": "https://localhost:8080/"
        },
        "id": "2felW9HAwult",
        "outputId": "d3c9ec2d-76b3-4d04-e1d1-b561ffb9c0cf"
      },
      "execution_count": 3,
      "outputs": [
        {
          "output_type": "execute_result",
          "data": {
            "text/plain": [
              "True"
            ]
          },
          "metadata": {},
          "execution_count": 3
        }
      ]
    },
    {
      "cell_type": "code",
      "source": [
        "kmeans.cluster_centers_"
      ],
      "metadata": {
        "colab": {
          "base_uri": "https://localhost:8080/"
        },
        "id": "g_LhreLXwxde",
        "outputId": "03544ba4-a1f8-4faa-b186-995dc9f5abdf"
      },
      "execution_count": 4,
      "outputs": [
        {
          "output_type": "execute_result",
          "data": {
            "text/plain": [
              "array([[-2.80214068,  1.55162671],\n",
              "       [ 0.08703534,  2.58438091],\n",
              "       [-1.46869323,  2.28214236],\n",
              "       [-2.79290307,  2.79641063],\n",
              "       [ 0.31332823,  1.96822352]])"
            ]
          },
          "metadata": {},
          "execution_count": 4
        }
      ]
    },
    {
      "cell_type": "code",
      "source": [
        "import numpy as np\n",
        "X_new = np.array([[0, 2], [3, 2], [-3, 3], [-3, 2.5]])\n",
        "kmeans.predict(X_new)"
      ],
      "metadata": {
        "colab": {
          "base_uri": "https://localhost:8080/"
        },
        "id": "OZcWFCbnw2Xo",
        "outputId": "bce4cebf-e0d3-4f59-e71c-c6cdb3328fac"
      },
      "execution_count": 5,
      "outputs": [
        {
          "output_type": "execute_result",
          "data": {
            "text/plain": [
              "array([4, 4, 3, 3], dtype=int32)"
            ]
          },
          "metadata": {},
          "execution_count": 5
        }
      ]
    },
    {
      "cell_type": "code",
      "source": [
        "kmeans.transform(X_new).round(2)"
      ],
      "metadata": {
        "colab": {
          "base_uri": "https://localhost:8080/"
        },
        "id": "bnv7WpbMxmyR",
        "outputId": "900407fc-0d64-4787-d430-f48c4870e12b"
      },
      "execution_count": 6,
      "outputs": [
        {
          "output_type": "execute_result",
          "data": {
            "text/plain": [
              "array([[2.84, 0.59, 1.5 , 2.9 , 0.31],\n",
              "       [5.82, 2.97, 4.48, 5.85, 2.69],\n",
              "       [1.46, 3.11, 1.69, 0.29, 3.47],\n",
              "       [0.97, 3.09, 1.55, 0.36, 3.36]])"
            ]
          },
          "metadata": {},
          "execution_count": 6
        }
      ]
    },
    {
      "cell_type": "code",
      "source": [
        "good_init = np.array([[-3, 3], [-3, 2], [-3, 1], [-1, 2], [0, 2]])\n",
        "kmeans = KMeans(n_clusters=5, init=good_init, n_init=1, random_state=42)\n",
        "kmeans.fit(X)"
      ],
      "metadata": {
        "colab": {
          "base_uri": "https://localhost:8080/",
          "height": 162
        },
        "id": "rsOuDGc5yNJe",
        "outputId": "d5bcb7e9-020c-433c-a240-d299f8568c5b"
      },
      "execution_count": 7,
      "outputs": [
        {
          "output_type": "execute_result",
          "data": {
            "text/plain": [
              "KMeans(init=array([[-3,  3],\n",
              "       [-3,  2],\n",
              "       [-3,  1],\n",
              "       [-1,  2],\n",
              "       [ 0,  2]]),\n",
              "       n_clusters=5, n_init=1, random_state=42)"
            ],
            "text/html": [
              "<style>#sk-container-id-1 {color: black;}#sk-container-id-1 pre{padding: 0;}#sk-container-id-1 div.sk-toggleable {background-color: white;}#sk-container-id-1 label.sk-toggleable__label {cursor: pointer;display: block;width: 100%;margin-bottom: 0;padding: 0.3em;box-sizing: border-box;text-align: center;}#sk-container-id-1 label.sk-toggleable__label-arrow:before {content: \"▸\";float: left;margin-right: 0.25em;color: #696969;}#sk-container-id-1 label.sk-toggleable__label-arrow:hover:before {color: black;}#sk-container-id-1 div.sk-estimator:hover label.sk-toggleable__label-arrow:before {color: black;}#sk-container-id-1 div.sk-toggleable__content {max-height: 0;max-width: 0;overflow: hidden;text-align: left;background-color: #f0f8ff;}#sk-container-id-1 div.sk-toggleable__content pre {margin: 0.2em;color: black;border-radius: 0.25em;background-color: #f0f8ff;}#sk-container-id-1 input.sk-toggleable__control:checked~div.sk-toggleable__content {max-height: 200px;max-width: 100%;overflow: auto;}#sk-container-id-1 input.sk-toggleable__control:checked~label.sk-toggleable__label-arrow:before {content: \"▾\";}#sk-container-id-1 div.sk-estimator input.sk-toggleable__control:checked~label.sk-toggleable__label {background-color: #d4ebff;}#sk-container-id-1 div.sk-label input.sk-toggleable__control:checked~label.sk-toggleable__label {background-color: #d4ebff;}#sk-container-id-1 input.sk-hidden--visually {border: 0;clip: rect(1px 1px 1px 1px);clip: rect(1px, 1px, 1px, 1px);height: 1px;margin: -1px;overflow: hidden;padding: 0;position: absolute;width: 1px;}#sk-container-id-1 div.sk-estimator {font-family: monospace;background-color: #f0f8ff;border: 1px dotted black;border-radius: 0.25em;box-sizing: border-box;margin-bottom: 0.5em;}#sk-container-id-1 div.sk-estimator:hover {background-color: #d4ebff;}#sk-container-id-1 div.sk-parallel-item::after {content: \"\";width: 100%;border-bottom: 1px solid gray;flex-grow: 1;}#sk-container-id-1 div.sk-label:hover label.sk-toggleable__label {background-color: #d4ebff;}#sk-container-id-1 div.sk-serial::before {content: \"\";position: absolute;border-left: 1px solid gray;box-sizing: border-box;top: 0;bottom: 0;left: 50%;z-index: 0;}#sk-container-id-1 div.sk-serial {display: flex;flex-direction: column;align-items: center;background-color: white;padding-right: 0.2em;padding-left: 0.2em;position: relative;}#sk-container-id-1 div.sk-item {position: relative;z-index: 1;}#sk-container-id-1 div.sk-parallel {display: flex;align-items: stretch;justify-content: center;background-color: white;position: relative;}#sk-container-id-1 div.sk-item::before, #sk-container-id-1 div.sk-parallel-item::before {content: \"\";position: absolute;border-left: 1px solid gray;box-sizing: border-box;top: 0;bottom: 0;left: 50%;z-index: -1;}#sk-container-id-1 div.sk-parallel-item {display: flex;flex-direction: column;z-index: 1;position: relative;background-color: white;}#sk-container-id-1 div.sk-parallel-item:first-child::after {align-self: flex-end;width: 50%;}#sk-container-id-1 div.sk-parallel-item:last-child::after {align-self: flex-start;width: 50%;}#sk-container-id-1 div.sk-parallel-item:only-child::after {width: 0;}#sk-container-id-1 div.sk-dashed-wrapped {border: 1px dashed gray;margin: 0 0.4em 0.5em 0.4em;box-sizing: border-box;padding-bottom: 0.4em;background-color: white;}#sk-container-id-1 div.sk-label label {font-family: monospace;font-weight: bold;display: inline-block;line-height: 1.2em;}#sk-container-id-1 div.sk-label-container {text-align: center;}#sk-container-id-1 div.sk-container {/* jupyter's `normalize.less` sets `[hidden] { display: none; }` but bootstrap.min.css set `[hidden] { display: none !important; }` so we also need the `!important` here to be able to override the default hidden behavior on the sphinx rendered scikit-learn.org. See: https://github.com/scikit-learn/scikit-learn/issues/21755 */display: inline-block !important;position: relative;}#sk-container-id-1 div.sk-text-repr-fallback {display: none;}</style><div id=\"sk-container-id-1\" class=\"sk-top-container\"><div class=\"sk-text-repr-fallback\"><pre>KMeans(init=array([[-3,  3],\n",
              "       [-3,  2],\n",
              "       [-3,  1],\n",
              "       [-1,  2],\n",
              "       [ 0,  2]]),\n",
              "       n_clusters=5, n_init=1, random_state=42)</pre><b>In a Jupyter environment, please rerun this cell to show the HTML representation or trust the notebook. <br />On GitHub, the HTML representation is unable to render, please try loading this page with nbviewer.org.</b></div><div class=\"sk-container\" hidden><div class=\"sk-item\"><div class=\"sk-estimator sk-toggleable\"><input class=\"sk-toggleable__control sk-hidden--visually\" id=\"sk-estimator-id-1\" type=\"checkbox\" checked><label for=\"sk-estimator-id-1\" class=\"sk-toggleable__label sk-toggleable__label-arrow\">KMeans</label><div class=\"sk-toggleable__content\"><pre>KMeans(init=array([[-3,  3],\n",
              "       [-3,  2],\n",
              "       [-3,  1],\n",
              "       [-1,  2],\n",
              "       [ 0,  2]]),\n",
              "       n_clusters=5, n_init=1, random_state=42)</pre></div></div></div></div></div>"
            ]
          },
          "metadata": {},
          "execution_count": 7
        }
      ]
    },
    {
      "cell_type": "code",
      "source": [
        "kmeans.inertia_"
      ],
      "metadata": {
        "colab": {
          "base_uri": "https://localhost:8080/"
        },
        "id": "-22JxYVhzgx-",
        "outputId": "f1b4f3b1-ecc5-4a68-bf0e-482e9296d958"
      },
      "execution_count": 8,
      "outputs": [
        {
          "output_type": "execute_result",
          "data": {
            "text/plain": [
              "211.59853725816828"
            ]
          },
          "metadata": {},
          "execution_count": 8
        }
      ]
    },
    {
      "cell_type": "code",
      "source": [
        "kmeans.score(X)"
      ],
      "metadata": {
        "colab": {
          "base_uri": "https://localhost:8080/"
        },
        "id": "jqgzs4IA030m",
        "outputId": "eac841dd-f9c2-474b-8c35-03e0d787b606"
      },
      "execution_count": 9,
      "outputs": [
        {
          "output_type": "execute_result",
          "data": {
            "text/plain": [
              "-211.59853725816828"
            ]
          },
          "metadata": {},
          "execution_count": 9
        }
      ]
    },
    {
      "cell_type": "code",
      "source": [
        "from sklearn.cluster import MiniBatchKMeans\n",
        "\n",
        "minibatch_kmeans = MiniBatchKMeans(n_clusters=5, random_state=42)\n",
        "minibatch_kmeans.fit(X)"
      ],
      "metadata": {
        "colab": {
          "base_uri": "https://localhost:8080/",
          "height": 130
        },
        "id": "wmSV-Y_X1BP-",
        "outputId": "267275a2-c762-4965-c9dc-dddc10ebafb2"
      },
      "execution_count": 10,
      "outputs": [
        {
          "output_type": "stream",
          "name": "stderr",
          "text": [
            "/usr/local/lib/python3.10/dist-packages/sklearn/cluster/_kmeans.py:1934: FutureWarning: The default value of `n_init` will change from 3 to 'auto' in 1.4. Set the value of `n_init` explicitly to suppress the warning\n",
            "  super()._check_params_vs_input(X, default_n_init=3)\n"
          ]
        },
        {
          "output_type": "execute_result",
          "data": {
            "text/plain": [
              "MiniBatchKMeans(n_clusters=5, random_state=42)"
            ],
            "text/html": [
              "<style>#sk-container-id-2 {color: black;}#sk-container-id-2 pre{padding: 0;}#sk-container-id-2 div.sk-toggleable {background-color: white;}#sk-container-id-2 label.sk-toggleable__label {cursor: pointer;display: block;width: 100%;margin-bottom: 0;padding: 0.3em;box-sizing: border-box;text-align: center;}#sk-container-id-2 label.sk-toggleable__label-arrow:before {content: \"▸\";float: left;margin-right: 0.25em;color: #696969;}#sk-container-id-2 label.sk-toggleable__label-arrow:hover:before {color: black;}#sk-container-id-2 div.sk-estimator:hover label.sk-toggleable__label-arrow:before {color: black;}#sk-container-id-2 div.sk-toggleable__content {max-height: 0;max-width: 0;overflow: hidden;text-align: left;background-color: #f0f8ff;}#sk-container-id-2 div.sk-toggleable__content pre {margin: 0.2em;color: black;border-radius: 0.25em;background-color: #f0f8ff;}#sk-container-id-2 input.sk-toggleable__control:checked~div.sk-toggleable__content {max-height: 200px;max-width: 100%;overflow: auto;}#sk-container-id-2 input.sk-toggleable__control:checked~label.sk-toggleable__label-arrow:before {content: \"▾\";}#sk-container-id-2 div.sk-estimator input.sk-toggleable__control:checked~label.sk-toggleable__label {background-color: #d4ebff;}#sk-container-id-2 div.sk-label input.sk-toggleable__control:checked~label.sk-toggleable__label {background-color: #d4ebff;}#sk-container-id-2 input.sk-hidden--visually {border: 0;clip: rect(1px 1px 1px 1px);clip: rect(1px, 1px, 1px, 1px);height: 1px;margin: -1px;overflow: hidden;padding: 0;position: absolute;width: 1px;}#sk-container-id-2 div.sk-estimator {font-family: monospace;background-color: #f0f8ff;border: 1px dotted black;border-radius: 0.25em;box-sizing: border-box;margin-bottom: 0.5em;}#sk-container-id-2 div.sk-estimator:hover {background-color: #d4ebff;}#sk-container-id-2 div.sk-parallel-item::after {content: \"\";width: 100%;border-bottom: 1px solid gray;flex-grow: 1;}#sk-container-id-2 div.sk-label:hover label.sk-toggleable__label {background-color: #d4ebff;}#sk-container-id-2 div.sk-serial::before {content: \"\";position: absolute;border-left: 1px solid gray;box-sizing: border-box;top: 0;bottom: 0;left: 50%;z-index: 0;}#sk-container-id-2 div.sk-serial {display: flex;flex-direction: column;align-items: center;background-color: white;padding-right: 0.2em;padding-left: 0.2em;position: relative;}#sk-container-id-2 div.sk-item {position: relative;z-index: 1;}#sk-container-id-2 div.sk-parallel {display: flex;align-items: stretch;justify-content: center;background-color: white;position: relative;}#sk-container-id-2 div.sk-item::before, #sk-container-id-2 div.sk-parallel-item::before {content: \"\";position: absolute;border-left: 1px solid gray;box-sizing: border-box;top: 0;bottom: 0;left: 50%;z-index: -1;}#sk-container-id-2 div.sk-parallel-item {display: flex;flex-direction: column;z-index: 1;position: relative;background-color: white;}#sk-container-id-2 div.sk-parallel-item:first-child::after {align-self: flex-end;width: 50%;}#sk-container-id-2 div.sk-parallel-item:last-child::after {align-self: flex-start;width: 50%;}#sk-container-id-2 div.sk-parallel-item:only-child::after {width: 0;}#sk-container-id-2 div.sk-dashed-wrapped {border: 1px dashed gray;margin: 0 0.4em 0.5em 0.4em;box-sizing: border-box;padding-bottom: 0.4em;background-color: white;}#sk-container-id-2 div.sk-label label {font-family: monospace;font-weight: bold;display: inline-block;line-height: 1.2em;}#sk-container-id-2 div.sk-label-container {text-align: center;}#sk-container-id-2 div.sk-container {/* jupyter's `normalize.less` sets `[hidden] { display: none; }` but bootstrap.min.css set `[hidden] { display: none !important; }` so we also need the `!important` here to be able to override the default hidden behavior on the sphinx rendered scikit-learn.org. See: https://github.com/scikit-learn/scikit-learn/issues/21755 */display: inline-block !important;position: relative;}#sk-container-id-2 div.sk-text-repr-fallback {display: none;}</style><div id=\"sk-container-id-2\" class=\"sk-top-container\"><div class=\"sk-text-repr-fallback\"><pre>MiniBatchKMeans(n_clusters=5, random_state=42)</pre><b>In a Jupyter environment, please rerun this cell to show the HTML representation or trust the notebook. <br />On GitHub, the HTML representation is unable to render, please try loading this page with nbviewer.org.</b></div><div class=\"sk-container\" hidden><div class=\"sk-item\"><div class=\"sk-estimator sk-toggleable\"><input class=\"sk-toggleable__control sk-hidden--visually\" id=\"sk-estimator-id-2\" type=\"checkbox\" checked><label for=\"sk-estimator-id-2\" class=\"sk-toggleable__label sk-toggleable__label-arrow\">MiniBatchKMeans</label><div class=\"sk-toggleable__content\"><pre>MiniBatchKMeans(n_clusters=5, random_state=42)</pre></div></div></div></div></div>"
            ]
          },
          "metadata": {},
          "execution_count": 10
        }
      ]
    },
    {
      "cell_type": "code",
      "source": [
        "from sklearn.metrics import silhouette_score\n",
        "silhouette_score(X, kmeans.labels_)"
      ],
      "metadata": {
        "colab": {
          "base_uri": "https://localhost:8080/"
        },
        "id": "7ifMucn1PZ87",
        "outputId": "bf285aa2-eb00-45c2-d83a-99d1d1c7735e"
      },
      "execution_count": 11,
      "outputs": [
        {
          "output_type": "execute_result",
          "data": {
            "text/plain": [
              "0.655517642572828"
            ]
          },
          "metadata": {},
          "execution_count": 11
        }
      ]
    },
    {
      "cell_type": "code",
      "source": [
        "import requests\n",
        "from PIL import Image\n",
        "import numpy as np\n",
        "from io import BytesIO\n",
        "\n",
        "url = \"https://github.com/ageron/handson-ml3/blob/main/images/unsupervised_learning/ladybug.png?raw=true\"\n",
        "response = requests.get(url)\n",
        "img = Image.open(BytesIO(response.content))\n",
        "image = np.asarray(img)\n",
        "image.shape\n"
      ],
      "metadata": {
        "colab": {
          "base_uri": "https://localhost:8080/"
        },
        "id": "-XjY0YEdR4jP",
        "outputId": "57d4f25e-f5d4-4df8-aa99-4c06455b0d0c"
      },
      "execution_count": 12,
      "outputs": [
        {
          "output_type": "execute_result",
          "data": {
            "text/plain": [
              "(533, 800, 3)"
            ]
          },
          "metadata": {},
          "execution_count": 12
        }
      ]
    },
    {
      "cell_type": "code",
      "source": [
        "X = image.reshape(-1, 3)\n",
        "kmeans = KMeans(n_clusters=8, random_state=42).fit(X)\n",
        "segmented_img = kmeans.cluster_centers_[kmeans.labels_]\n",
        "segmented_img = segmented_img.reshape(image.shape)"
      ],
      "metadata": {
        "colab": {
          "base_uri": "https://localhost:8080/"
        },
        "id": "Lam8mUalaaLM",
        "outputId": "687707c6-2764-44fb-963b-a7028084d8c4"
      },
      "execution_count": 13,
      "outputs": [
        {
          "output_type": "stream",
          "name": "stderr",
          "text": [
            "/usr/local/lib/python3.10/dist-packages/sklearn/cluster/_kmeans.py:1416: FutureWarning: The default value of `n_init` will change from 10 to 'auto' in 1.4. Set the value of `n_init` explicitly to suppress the warning\n",
            "  super()._check_params_vs_input(X, default_n_init=10)\n"
          ]
        }
      ]
    },
    {
      "cell_type": "code",
      "source": [
        "kmeans.cluster_centers_"
      ],
      "metadata": {
        "colab": {
          "base_uri": "https://localhost:8080/"
        },
        "id": "m6-yW8sO7SFv",
        "outputId": "1b776819-3e55-4f40-f753-9530dfef2755"
      },
      "execution_count": 14,
      "outputs": [
        {
          "output_type": "execute_result",
          "data": {
            "text/plain": [
              "array([[  5.6105612 ,  27.61743918,   1.44857047],\n",
              "       [250.68280046, 237.8319458 ,   6.51237711],\n",
              "       [ 54.37997208,  97.09151272,  14.07131629],\n",
              "       [155.1122467 , 160.29920705,  98.37997063],\n",
              "       [ 93.53208815, 132.47927103,  39.06947451],\n",
              "       [ 24.39502109,  63.41611633,   4.09118396],\n",
              "       [195.12454743,  50.81607531,  11.20057929],\n",
              "       [223.40683449, 182.94424185,   9.39848253]])"
            ]
          },
          "metadata": {},
          "execution_count": 14
        }
      ]
    },
    {
      "cell_type": "code",
      "source": [
        "X.shape"
      ],
      "metadata": {
        "colab": {
          "base_uri": "https://localhost:8080/"
        },
        "id": "_vcsqivU7i0T",
        "outputId": "52f6c4fe-7508-44c4-f774-103bf5de106f"
      },
      "execution_count": 15,
      "outputs": [
        {
          "output_type": "execute_result",
          "data": {
            "text/plain": [
              "(426400, 3)"
            ]
          },
          "metadata": {},
          "execution_count": 15
        }
      ]
    },
    {
      "cell_type": "code",
      "source": [
        "from sklearn.datasets import load_digits\n",
        "\n",
        "X_digits, y_digits = load_digits(return_X_y=True)\n",
        "X_train, y_train = X_digits[:1400], y_digits[:1400]\n",
        "X_test, y_test = X_digits[1400:], y_digits[1400:]"
      ],
      "metadata": {
        "id": "WNl7xXQ48xHH"
      },
      "execution_count": 16,
      "outputs": []
    },
    {
      "cell_type": "code",
      "source": [
        "from sklearn.linear_model import LogisticRegression\n",
        "\n",
        "n_labeled = 50\n",
        "log_reg = LogisticRegression(max_iter=10000)\n",
        "log_reg.fit(X_train[:n_labeled], y_train[:n_labeled])"
      ],
      "metadata": {
        "colab": {
          "base_uri": "https://localhost:8080/",
          "height": 75
        },
        "id": "BiaTWQa29MoK",
        "outputId": "83e265a8-0567-4253-9c66-856d3b808222"
      },
      "execution_count": 17,
      "outputs": [
        {
          "output_type": "execute_result",
          "data": {
            "text/plain": [
              "LogisticRegression(max_iter=10000)"
            ],
            "text/html": [
              "<style>#sk-container-id-3 {color: black;}#sk-container-id-3 pre{padding: 0;}#sk-container-id-3 div.sk-toggleable {background-color: white;}#sk-container-id-3 label.sk-toggleable__label {cursor: pointer;display: block;width: 100%;margin-bottom: 0;padding: 0.3em;box-sizing: border-box;text-align: center;}#sk-container-id-3 label.sk-toggleable__label-arrow:before {content: \"▸\";float: left;margin-right: 0.25em;color: #696969;}#sk-container-id-3 label.sk-toggleable__label-arrow:hover:before {color: black;}#sk-container-id-3 div.sk-estimator:hover label.sk-toggleable__label-arrow:before {color: black;}#sk-container-id-3 div.sk-toggleable__content {max-height: 0;max-width: 0;overflow: hidden;text-align: left;background-color: #f0f8ff;}#sk-container-id-3 div.sk-toggleable__content pre {margin: 0.2em;color: black;border-radius: 0.25em;background-color: #f0f8ff;}#sk-container-id-3 input.sk-toggleable__control:checked~div.sk-toggleable__content {max-height: 200px;max-width: 100%;overflow: auto;}#sk-container-id-3 input.sk-toggleable__control:checked~label.sk-toggleable__label-arrow:before {content: \"▾\";}#sk-container-id-3 div.sk-estimator input.sk-toggleable__control:checked~label.sk-toggleable__label {background-color: #d4ebff;}#sk-container-id-3 div.sk-label input.sk-toggleable__control:checked~label.sk-toggleable__label {background-color: #d4ebff;}#sk-container-id-3 input.sk-hidden--visually {border: 0;clip: rect(1px 1px 1px 1px);clip: rect(1px, 1px, 1px, 1px);height: 1px;margin: -1px;overflow: hidden;padding: 0;position: absolute;width: 1px;}#sk-container-id-3 div.sk-estimator {font-family: monospace;background-color: #f0f8ff;border: 1px dotted black;border-radius: 0.25em;box-sizing: border-box;margin-bottom: 0.5em;}#sk-container-id-3 div.sk-estimator:hover {background-color: #d4ebff;}#sk-container-id-3 div.sk-parallel-item::after {content: \"\";width: 100%;border-bottom: 1px solid gray;flex-grow: 1;}#sk-container-id-3 div.sk-label:hover label.sk-toggleable__label {background-color: #d4ebff;}#sk-container-id-3 div.sk-serial::before {content: \"\";position: absolute;border-left: 1px solid gray;box-sizing: border-box;top: 0;bottom: 0;left: 50%;z-index: 0;}#sk-container-id-3 div.sk-serial {display: flex;flex-direction: column;align-items: center;background-color: white;padding-right: 0.2em;padding-left: 0.2em;position: relative;}#sk-container-id-3 div.sk-item {position: relative;z-index: 1;}#sk-container-id-3 div.sk-parallel {display: flex;align-items: stretch;justify-content: center;background-color: white;position: relative;}#sk-container-id-3 div.sk-item::before, #sk-container-id-3 div.sk-parallel-item::before {content: \"\";position: absolute;border-left: 1px solid gray;box-sizing: border-box;top: 0;bottom: 0;left: 50%;z-index: -1;}#sk-container-id-3 div.sk-parallel-item {display: flex;flex-direction: column;z-index: 1;position: relative;background-color: white;}#sk-container-id-3 div.sk-parallel-item:first-child::after {align-self: flex-end;width: 50%;}#sk-container-id-3 div.sk-parallel-item:last-child::after {align-self: flex-start;width: 50%;}#sk-container-id-3 div.sk-parallel-item:only-child::after {width: 0;}#sk-container-id-3 div.sk-dashed-wrapped {border: 1px dashed gray;margin: 0 0.4em 0.5em 0.4em;box-sizing: border-box;padding-bottom: 0.4em;background-color: white;}#sk-container-id-3 div.sk-label label {font-family: monospace;font-weight: bold;display: inline-block;line-height: 1.2em;}#sk-container-id-3 div.sk-label-container {text-align: center;}#sk-container-id-3 div.sk-container {/* jupyter's `normalize.less` sets `[hidden] { display: none; }` but bootstrap.min.css set `[hidden] { display: none !important; }` so we also need the `!important` here to be able to override the default hidden behavior on the sphinx rendered scikit-learn.org. See: https://github.com/scikit-learn/scikit-learn/issues/21755 */display: inline-block !important;position: relative;}#sk-container-id-3 div.sk-text-repr-fallback {display: none;}</style><div id=\"sk-container-id-3\" class=\"sk-top-container\"><div class=\"sk-text-repr-fallback\"><pre>LogisticRegression(max_iter=10000)</pre><b>In a Jupyter environment, please rerun this cell to show the HTML representation or trust the notebook. <br />On GitHub, the HTML representation is unable to render, please try loading this page with nbviewer.org.</b></div><div class=\"sk-container\" hidden><div class=\"sk-item\"><div class=\"sk-estimator sk-toggleable\"><input class=\"sk-toggleable__control sk-hidden--visually\" id=\"sk-estimator-id-3\" type=\"checkbox\" checked><label for=\"sk-estimator-id-3\" class=\"sk-toggleable__label sk-toggleable__label-arrow\">LogisticRegression</label><div class=\"sk-toggleable__content\"><pre>LogisticRegression(max_iter=10000)</pre></div></div></div></div></div>"
            ]
          },
          "metadata": {},
          "execution_count": 17
        }
      ]
    },
    {
      "cell_type": "code",
      "source": [
        "log_reg.score(X_test, y_test)"
      ],
      "metadata": {
        "colab": {
          "base_uri": "https://localhost:8080/"
        },
        "id": "K4HboZFH9lkq",
        "outputId": "442cfbd7-f9d9-40bb-cd8e-d1fa2365555b"
      },
      "execution_count": 18,
      "outputs": [
        {
          "output_type": "execute_result",
          "data": {
            "text/plain": [
              "0.7481108312342569"
            ]
          },
          "metadata": {},
          "execution_count": 18
        }
      ]
    },
    {
      "cell_type": "code",
      "source": [
        "k = 50\n",
        "kmeans = KMeans(n_clusters=k, random_state=42)\n",
        "X_digits_dist = kmeans.fit_transform(X_train)\n",
        "representative_digit_idx = np.argmin(X_digits_dist, axis=0)\n",
        "X_representative_digits = X_train[representative_digit_idx]"
      ],
      "metadata": {
        "colab": {
          "base_uri": "https://localhost:8080/"
        },
        "id": "JkkGam2N9pRu",
        "outputId": "62d71183-157f-4b4c-8a50-cbf2cc70231a"
      },
      "execution_count": 19,
      "outputs": [
        {
          "output_type": "stream",
          "name": "stderr",
          "text": [
            "/usr/local/lib/python3.10/dist-packages/sklearn/cluster/_kmeans.py:1416: FutureWarning: The default value of `n_init` will change from 10 to 'auto' in 1.4. Set the value of `n_init` explicitly to suppress the warning\n",
            "  super()._check_params_vs_input(X, default_n_init=10)\n"
          ]
        }
      ]
    },
    {
      "cell_type": "code",
      "source": [
        "y_representative_digits = np.array([\n",
        "    1, 3, 6, 0, 7, 9, 2, 4, 8, 9,\n",
        "    5, 4, 7, 1, 2, 6, 1, 2, 5, 1,\n",
        "    4, 1, 3, 3, 8, 8, 2, 5, 6, 9,\n",
        "    1, 4, 0, 6, 8, 3, 4, 6, 7, 2,\n",
        "    4, 1, 0, 7, 5, 1, 9, 9, 3, 7\n",
        "])"
      ],
      "metadata": {
        "id": "z6dIK8OO9900"
      },
      "execution_count": 20,
      "outputs": []
    },
    {
      "cell_type": "code",
      "source": [
        "log_reg = LogisticRegression(max_iter=10000)\n",
        "log_reg.fit(X_representative_digits, y_representative_digits)\n",
        "log_reg.score(X_test, y_test)"
      ],
      "metadata": {
        "colab": {
          "base_uri": "https://localhost:8080/"
        },
        "id": "fJf4Yjwi-Hmt",
        "outputId": "fd4a57a0-d30f-4cbd-fe0b-5542ba712aba"
      },
      "execution_count": 21,
      "outputs": [
        {
          "output_type": "execute_result",
          "data": {
            "text/plain": [
              "0.06297229219143577"
            ]
          },
          "metadata": {},
          "execution_count": 21
        }
      ]
    },
    {
      "cell_type": "code",
      "source": [
        "y_train_propagated = np.empty(len(X_train), dtype=np.int64)\n",
        "for i in range(k):\n",
        "  y_train_propagated[kmeans.labels_ == i] = y_representative_digits[i]"
      ],
      "metadata": {
        "id": "v1TEhc6eAsOA"
      },
      "execution_count": 22,
      "outputs": []
    },
    {
      "cell_type": "code",
      "source": [
        "log_reg = LogisticRegression(max_iter=10000)\n",
        "log_reg.fit(X_train, y_train_propagated)\n",
        "log_reg.score(X_test, y_test)"
      ],
      "metadata": {
        "colab": {
          "base_uri": "https://localhost:8080/"
        },
        "id": "xvePdP5XBSob",
        "outputId": "34b666dc-4294-4a5d-fada-4b52896d443e"
      },
      "execution_count": 23,
      "outputs": [
        {
          "output_type": "execute_result",
          "data": {
            "text/plain": [
              "0.07808564231738035"
            ]
          },
          "metadata": {},
          "execution_count": 23
        }
      ]
    },
    {
      "cell_type": "code",
      "source": [
        "percentile_closet = 90\n",
        "\n",
        "X_cluster_dist = X_digits_dist[np.arange(len(X_train)), kmeans.labels_]\n",
        "for i in range(k):\n",
        "  in_cluster = (kmeans.labels_ == i)\n",
        "  cluster_dist = X_cluster_dist[in_cluster]\n",
        "  cutoff_distance = np.percentile(cluster_dist, percentile_closet)\n",
        "  above_cutoff = (X_cluster_dist > cutoff_distance)\n",
        "  X_cluster_dist[in_cluster & above_cutoff] = -1\n",
        "\n",
        "partially_propagated = (X_cluster_dist != -1)\n",
        "X_train_partially_propagated = X_train[partially_propagated]\n",
        "y_train_partially_propagated = y_train_propagated[partially_propagated]"
      ],
      "metadata": {
        "id": "x2_wWRJZBZzj"
      },
      "execution_count": 24,
      "outputs": []
    },
    {
      "cell_type": "code",
      "source": [
        "log_reg = LogisticRegression(max_iter=10000)\n",
        "log_reg.fit(X_train_partially_propagated, y_train_partially_propagated)\n",
        "log_reg.score(X_test, y_test)"
      ],
      "metadata": {
        "colab": {
          "base_uri": "https://localhost:8080/"
        },
        "id": "o5-WoG6nC5Y6",
        "outputId": "59d43ee6-4fab-4dd7-b0e7-cbc625657189"
      },
      "execution_count": 25,
      "outputs": [
        {
          "output_type": "execute_result",
          "data": {
            "text/plain": [
              "0.07304785894206549"
            ]
          },
          "metadata": {},
          "execution_count": 25
        }
      ]
    },
    {
      "cell_type": "code",
      "source": [
        "(y_train_partially_propagated == y_train[partially_propagated]).mean()"
      ],
      "metadata": {
        "colab": {
          "base_uri": "https://localhost:8080/"
        },
        "id": "dIPGblDKDJJY",
        "outputId": "c1ec3c08-6a4e-47c8-f05e-4f280d513220"
      },
      "execution_count": 26,
      "outputs": [
        {
          "output_type": "execute_result",
          "data": {
            "text/plain": [
              "0.09646302250803858"
            ]
          },
          "metadata": {},
          "execution_count": 26
        }
      ]
    },
    {
      "cell_type": "code",
      "source": [
        "from sklearn.cluster import DBSCAN\n",
        "from sklearn.datasets import make_moons\n",
        "\n",
        "X, y = make_moons(n_samples=1000, noise=0.05)\n",
        "dbscan = DBSCAN(eps=0.05, min_samples=5)\n",
        "dbscan.fit(X)"
      ],
      "metadata": {
        "colab": {
          "base_uri": "https://localhost:8080/",
          "height": 75
        },
        "id": "T0VYsPC7DVUX",
        "outputId": "a2ac8be5-d77a-4f3c-96fa-b9765cc0c88e"
      },
      "execution_count": 27,
      "outputs": [
        {
          "output_type": "execute_result",
          "data": {
            "text/plain": [
              "DBSCAN(eps=0.05)"
            ],
            "text/html": [
              "<style>#sk-container-id-4 {color: black;}#sk-container-id-4 pre{padding: 0;}#sk-container-id-4 div.sk-toggleable {background-color: white;}#sk-container-id-4 label.sk-toggleable__label {cursor: pointer;display: block;width: 100%;margin-bottom: 0;padding: 0.3em;box-sizing: border-box;text-align: center;}#sk-container-id-4 label.sk-toggleable__label-arrow:before {content: \"▸\";float: left;margin-right: 0.25em;color: #696969;}#sk-container-id-4 label.sk-toggleable__label-arrow:hover:before {color: black;}#sk-container-id-4 div.sk-estimator:hover label.sk-toggleable__label-arrow:before {color: black;}#sk-container-id-4 div.sk-toggleable__content {max-height: 0;max-width: 0;overflow: hidden;text-align: left;background-color: #f0f8ff;}#sk-container-id-4 div.sk-toggleable__content pre {margin: 0.2em;color: black;border-radius: 0.25em;background-color: #f0f8ff;}#sk-container-id-4 input.sk-toggleable__control:checked~div.sk-toggleable__content {max-height: 200px;max-width: 100%;overflow: auto;}#sk-container-id-4 input.sk-toggleable__control:checked~label.sk-toggleable__label-arrow:before {content: \"▾\";}#sk-container-id-4 div.sk-estimator input.sk-toggleable__control:checked~label.sk-toggleable__label {background-color: #d4ebff;}#sk-container-id-4 div.sk-label input.sk-toggleable__control:checked~label.sk-toggleable__label {background-color: #d4ebff;}#sk-container-id-4 input.sk-hidden--visually {border: 0;clip: rect(1px 1px 1px 1px);clip: rect(1px, 1px, 1px, 1px);height: 1px;margin: -1px;overflow: hidden;padding: 0;position: absolute;width: 1px;}#sk-container-id-4 div.sk-estimator {font-family: monospace;background-color: #f0f8ff;border: 1px dotted black;border-radius: 0.25em;box-sizing: border-box;margin-bottom: 0.5em;}#sk-container-id-4 div.sk-estimator:hover {background-color: #d4ebff;}#sk-container-id-4 div.sk-parallel-item::after {content: \"\";width: 100%;border-bottom: 1px solid gray;flex-grow: 1;}#sk-container-id-4 div.sk-label:hover label.sk-toggleable__label {background-color: #d4ebff;}#sk-container-id-4 div.sk-serial::before {content: \"\";position: absolute;border-left: 1px solid gray;box-sizing: border-box;top: 0;bottom: 0;left: 50%;z-index: 0;}#sk-container-id-4 div.sk-serial {display: flex;flex-direction: column;align-items: center;background-color: white;padding-right: 0.2em;padding-left: 0.2em;position: relative;}#sk-container-id-4 div.sk-item {position: relative;z-index: 1;}#sk-container-id-4 div.sk-parallel {display: flex;align-items: stretch;justify-content: center;background-color: white;position: relative;}#sk-container-id-4 div.sk-item::before, #sk-container-id-4 div.sk-parallel-item::before {content: \"\";position: absolute;border-left: 1px solid gray;box-sizing: border-box;top: 0;bottom: 0;left: 50%;z-index: -1;}#sk-container-id-4 div.sk-parallel-item {display: flex;flex-direction: column;z-index: 1;position: relative;background-color: white;}#sk-container-id-4 div.sk-parallel-item:first-child::after {align-self: flex-end;width: 50%;}#sk-container-id-4 div.sk-parallel-item:last-child::after {align-self: flex-start;width: 50%;}#sk-container-id-4 div.sk-parallel-item:only-child::after {width: 0;}#sk-container-id-4 div.sk-dashed-wrapped {border: 1px dashed gray;margin: 0 0.4em 0.5em 0.4em;box-sizing: border-box;padding-bottom: 0.4em;background-color: white;}#sk-container-id-4 div.sk-label label {font-family: monospace;font-weight: bold;display: inline-block;line-height: 1.2em;}#sk-container-id-4 div.sk-label-container {text-align: center;}#sk-container-id-4 div.sk-container {/* jupyter's `normalize.less` sets `[hidden] { display: none; }` but bootstrap.min.css set `[hidden] { display: none !important; }` so we also need the `!important` here to be able to override the default hidden behavior on the sphinx rendered scikit-learn.org. See: https://github.com/scikit-learn/scikit-learn/issues/21755 */display: inline-block !important;position: relative;}#sk-container-id-4 div.sk-text-repr-fallback {display: none;}</style><div id=\"sk-container-id-4\" class=\"sk-top-container\"><div class=\"sk-text-repr-fallback\"><pre>DBSCAN(eps=0.05)</pre><b>In a Jupyter environment, please rerun this cell to show the HTML representation or trust the notebook. <br />On GitHub, the HTML representation is unable to render, please try loading this page with nbviewer.org.</b></div><div class=\"sk-container\" hidden><div class=\"sk-item\"><div class=\"sk-estimator sk-toggleable\"><input class=\"sk-toggleable__control sk-hidden--visually\" id=\"sk-estimator-id-4\" type=\"checkbox\" checked><label for=\"sk-estimator-id-4\" class=\"sk-toggleable__label sk-toggleable__label-arrow\">DBSCAN</label><div class=\"sk-toggleable__content\"><pre>DBSCAN(eps=0.05)</pre></div></div></div></div></div>"
            ]
          },
          "metadata": {},
          "execution_count": 27
        }
      ]
    },
    {
      "cell_type": "code",
      "source": [
        "dbscan.labels_"
      ],
      "metadata": {
        "colab": {
          "base_uri": "https://localhost:8080/"
        },
        "id": "JxlCRX9UF3WN",
        "outputId": "ba19aa8d-bd97-443b-fb43-c42c0b4a72ff"
      },
      "execution_count": 28,
      "outputs": [
        {
          "output_type": "execute_result",
          "data": {
            "text/plain": [
              "array([ 0,  1,  2,  0,  3,  0, -1, -1,  0,  4,  4,  4,  4,  4,  3,  4,  3,\n",
              "        4,  0,  3,  3,  1,  4,  7,  3,  4,  4,  2,  0, -1,  3,  4,  0,  1,\n",
              "        0,  0,  4,  5,  1,  4,  4,  2,  4,  0,  0,  0,  0,  0,  0,  4,  4,\n",
              "       -1,  1,  0,  4,  0,  2,  4,  4,  0,  1,  2,  0,  4,  2,  5,  2,  2,\n",
              "        4,  4,  4,  0,  1,  3,  1,  2,  4,  0, -1,  4,  3,  1,  1,  4,  4,\n",
              "        4,  2,  0,  2,  6,  4,  0,  2,  2,  3,  1, -1,  0,  0,  3, -1,  5,\n",
              "        4,  2,  2,  1,  5,  4,  3,  4,  3,  7,  0,  0,  0,  3,  2,  4,  6,\n",
              "        0,  2,  3,  0, -1,  4,  4,  3,  0,  0,  0,  4,  0,  4,  0,  3,  0,\n",
              "        4,  3,  0, -1,  6,  4,  5,  3,  0,  3,  2,  0,  6,  4,  5,  0, -1,\n",
              "        0, -1,  0, -1,  2,  0,  4,  2,  5,  3,  3,  1,  2,  4,  5,  5, -1,\n",
              "        0,  4, -1,  0,  2,  1,  3,  4,  2,  0,  3,  0,  2,  2,  0,  0,  1,\n",
              "        4,  4,  0,  3,  1,  4,  4,  4,  4,  1,  2,  2,  4,  4,  2,  0,  1,\n",
              "        0,  4, -1,  1,  3,  2,  3,  3,  3,  4,  0,  3,  0,  0,  4,  4,  0,\n",
              "        0,  0,  5,  2,  0,  2,  2,  3,  4,  3,  4,  4,  0,  0,  4,  0,  0,\n",
              "        3,  4, -1,  5,  0,  0,  0,  4,  3,  0,  2,  2,  3,  0,  2,  0,  0,\n",
              "        4,  4,  4,  4,  4,  0,  3,  0,  5,  3,  3,  5,  0,  3,  0,  0,  7,\n",
              "        0,  5,  3,  2,  4,  4,  5,  2,  1,  0,  4,  2,  0,  1,  1,  7,  1,\n",
              "        2,  0,  2,  4,  0,  2,  4,  4,  5,  4, -1,  4,  0,  0,  4,  3,  3,\n",
              "        0,  0,  0, -1,  1,  3,  1,  0,  3, -1,  4,  1,  4,  0,  4,  4,  0,\n",
              "        2,  4,  0,  0,  4,  6,  4,  0,  2,  3,  2,  5,  7,  0,  3,  2,  2,\n",
              "        5,  2,  7,  0,  0,  4,  3,  4,  0,  4, -1,  5,  4,  1,  3,  3,  4,\n",
              "        2,  0,  4,  0,  1,  5,  4,  0,  0,  4,  4,  2,  4, -1,  0,  4,  4,\n",
              "        4,  0,  4,  5,  4,  4,  4,  3,  6,  4,  0,  1,  2,  5,  4,  3,  0,\n",
              "        0,  1,  1,  1,  4,  4,  4, -1,  4,  0,  2,  0,  3,  0,  0,  0, -1,\n",
              "       -1,  2, -1,  3,  3,  0,  2,  4,  4,  0,  8,  2,  5,  4, -1,  8,  3,\n",
              "       -1,  2,  2,  3, -1,  4,  3,  3,  0,  4,  0,  3,  3,  4,  4,  4,  3,\n",
              "        0,  1,  3,  5,  4,  0,  2,  3,  4,  2,  5,  3,  4,  4,  5,  4,  4,\n",
              "        4,  2,  0,  0,  4,  5, -1,  4, -1,  2,  5, -1,  1,  0,  0,  4,  3,\n",
              "       -1,  5,  0,  0,  2,  5,  3,  4,  4,  3,  3,  4,  4,  4,  0,  4,  4,\n",
              "        5,  8,  3,  4, -1,  7,  0,  0,  1, -1,  4,  4,  2,  2,  1,  0,  3,\n",
              "        1,  5,  0,  2,  0,  4,  4,  3,  3,  4,  4,  2,  0,  2,  3,  3,  2,\n",
              "        0,  4,  3,  0,  0,  4,  4,  5,  1,  0,  2,  6,  0,  3, -1,  5, -1,\n",
              "        4, -1,  1,  1,  3,  4,  5,  3,  0, -1, -1,  0,  0,  4,  0,  0,  4,\n",
              "        4,  5,  3,  0,  5, -1,  2,  3,  0,  0,  0,  1,  0,  3,  3,  1,  4,\n",
              "        4,  4,  0,  2,  4,  4,  1,  2,  0,  0,  5,  3,  4,  0,  4,  3,  4,\n",
              "        0,  4,  3,  1, -1,  3,  3,  0,  2,  0,  4,  3,  0, -1,  4,  0,  4,\n",
              "        0,  0,  4,  0,  2,  4,  0,  0,  0,  0,  2,  4,  2,  4,  4,  5,  0,\n",
              "        2, -1,  2,  1,  1,  4,  0,  0,  3,  2,  0,  4,  0,  4, -1,  0, -1,\n",
              "        3,  2,  3,  0,  2,  4,  0,  4,  5,  0,  4,  3,  4,  1,  1,  2,  4,\n",
              "        0,  4,  5,  0,  5,  0,  3, -1,  0,  2,  4,  4,  0,  0,  1,  3,  3,\n",
              "        0,  2,  5,  2,  5,  4,  4,  3,  7,  5,  3, -1,  1,  2,  1,  0,  0,\n",
              "        0,  3,  1, -1,  1,  2,  2,  0,  3,  0,  0,  4,  0,  2,  1,  4,  3,\n",
              "        0,  4,  0,  4,  3,  3,  3,  0,  6,  2,  0,  4,  4,  2,  2,  7,  4,\n",
              "        5,  2,  3,  0,  0,  4,  3,  2,  4,  4,  4,  3,  2,  0,  4,  3,  2,\n",
              "        1,  0,  1, -1,  5,  4,  0,  3,  5,  0,  0,  0,  3,  0,  0,  5,  3,\n",
              "        2,  2,  3,  4,  4,  2,  3,  4,  4,  5,  1,  0,  1, -1,  4,  2,  0,\n",
              "        2,  5,  3,  2,  2,  1,  2,  4,  4,  2,  5,  7,  3,  3,  4,  5,  2,\n",
              "        1,  2,  4,  5,  4,  0,  3,  0,  0,  0,  4,  4, -1,  5,  2,  1,  0,\n",
              "        4,  4,  2,  5,  0,  0, -1,  0,  2,  3,  5,  0,  0,  2,  4,  4,  0,\n",
              "        2,  0,  1,  4,  2,  0,  3,  5,  4,  3,  5,  2,  0,  4,  4,  4,  0,\n",
              "        0,  2,  2,  0,  1,  0,  2,  4,  4,  4,  0,  0,  2,  0,  4,  4,  0,\n",
              "        5,  0,  5,  1,  4,  4,  2,  2,  3,  2,  4,  0,  0,  0,  1,  4,  1,\n",
              "        0, -1,  2,  5,  3,  5,  5,  3,  4,  0,  3,  3,  1,  7,  0,  0,  7,\n",
              "        3,  4,  1,  3,  2,  0, -1,  5,  5,  0,  0,  0,  1,  4,  0,  2,  3,\n",
              "        0,  0, -1,  2,  0,  0,  0,  4,  0,  4,  3, -1,  0,  3,  0,  4,  1,\n",
              "        2,  0,  1,  1,  2,  3,  0,  3,  2,  1,  3,  4,  0,  8,  0,  2,  4,\n",
              "        0,  4,  3,  0,  7,  3,  5, -1,  2,  1,  5,  2, -1,  4, -1,  0, -1,\n",
              "        4,  0,  0,  2,  0,  1,  0,  2, -1,  1,  3,  2,  0,  3,  4,  1,  2,\n",
              "       -1, -1,  3,  0,  2,  1,  4, -1, -1,  2,  0,  0,  3,  0])"
            ]
          },
          "metadata": {},
          "execution_count": 28
        }
      ]
    },
    {
      "cell_type": "code",
      "source": [
        "len(dbscan.core_sample_indices_)"
      ],
      "metadata": {
        "colab": {
          "base_uri": "https://localhost:8080/"
        },
        "id": "OMSH_i6XF8eu",
        "outputId": "c7532465-0f8e-44ba-bfb3-ebbf9f802b7e"
      },
      "execution_count": 29,
      "outputs": [
        {
          "output_type": "execute_result",
          "data": {
            "text/plain": [
              "799"
            ]
          },
          "metadata": {},
          "execution_count": 29
        }
      ]
    },
    {
      "cell_type": "code",
      "source": [
        "dbscan.core_sample_indices_"
      ],
      "metadata": {
        "colab": {
          "base_uri": "https://localhost:8080/"
        },
        "id": "e7R_Ed6ZGLSY",
        "outputId": "064e9df1-f873-404c-abd7-1fa831a60e05"
      },
      "execution_count": 30,
      "outputs": [
        {
          "output_type": "execute_result",
          "data": {
            "text/plain": [
              "array([  0,   1,   2,   3,   4,   5,   8,   9,  10,  12,  14,  15,  16,\n",
              "        17,  20,  21,  22,  24,  25,  27,  28,  30,  31,  32,  33,  34,\n",
              "        35,  37,  38,  39,  40,  41,  42,  43,  44,  45,  46,  47,  48,\n",
              "        49,  50,  52,  53,  54,  55,  56,  57,  58,  59,  60,  61,  62,\n",
              "        63,  64,  65,  66,  67,  68,  69,  71,  72,  73,  74,  75,  76,\n",
              "        77,  79,  80,  82,  83,  85,  86,  87,  88,  89,  90,  91,  92,\n",
              "        93,  94,  95,  97,  98,  99, 101, 103, 106, 107, 108, 109, 110,\n",
              "       112, 114, 115, 116, 117, 119, 120, 122, 125, 126, 127, 128, 129,\n",
              "       130, 132, 134, 135, 136, 137, 138, 141, 142, 143, 144, 145, 146,\n",
              "       147, 148, 149, 150, 151, 153, 155, 158, 159, 160, 161, 162, 163,\n",
              "       164, 165, 166, 167, 168, 170, 171, 173, 174, 175, 176, 177, 179,\n",
              "       180, 181, 184, 185, 186, 187, 188, 189, 190, 191, 192, 194, 195,\n",
              "       196, 197, 198, 199, 200, 201, 202, 203, 204, 205, 207, 209, 210,\n",
              "       211, 212, 214, 215, 216, 217, 218, 220, 221, 222, 223, 224, 225,\n",
              "       226, 227, 228, 229, 231, 232, 234, 236, 237, 238, 239, 241, 242,\n",
              "       243, 246, 247, 248, 249, 250, 251, 252, 253, 254, 255, 256, 257,\n",
              "       258, 259, 260, 261, 262, 263, 264, 266, 267, 268, 271, 272, 275,\n",
              "       276, 277, 278, 279, 280, 281, 282, 283, 284, 285, 287, 288, 290,\n",
              "       291, 295, 297, 298, 300, 301, 302, 303, 304, 305, 306, 307, 308,\n",
              "       310, 311, 312, 313, 316, 317, 318, 319, 321, 323, 324, 325, 327,\n",
              "       329, 330, 331, 332, 333, 334, 336, 337, 338, 339, 340, 341, 343,\n",
              "       344, 345, 346, 347, 348, 351, 352, 353, 354, 355, 357, 358, 360,\n",
              "       361, 362, 363, 364, 365, 366, 367, 368, 369, 371, 372, 373, 374,\n",
              "       375, 376, 377, 378, 379, 380, 382, 383, 384, 385, 386, 387, 388,\n",
              "       390, 391, 392, 393, 394, 395, 396, 397, 399, 400, 401, 402, 403,\n",
              "       404, 406, 409, 411, 412, 413, 414, 415, 416, 417, 419, 420, 421,\n",
              "       424, 426, 427, 428, 430, 431, 432, 433, 434, 435, 436, 437, 438,\n",
              "       439, 440, 441, 442, 443, 444, 445, 446, 447, 448, 449, 450, 451,\n",
              "       452, 454, 455, 456, 457, 458, 459, 460, 462, 463, 464, 466, 468,\n",
              "       469, 471, 473, 474, 475, 477, 478, 479, 480, 481, 483, 484, 485,\n",
              "       486, 487, 488, 489, 490, 491, 492, 493, 494, 496, 498, 499, 500,\n",
              "       503, 504, 505, 506, 507, 508, 509, 510, 511, 512, 513, 514, 515,\n",
              "       516, 517, 518, 519, 520, 522, 523, 524, 525, 526, 527, 528, 529,\n",
              "       530, 532, 533, 534, 535, 536, 537, 538, 539, 540, 542, 544, 547,\n",
              "       548, 549, 550, 552, 555, 557, 558, 559, 560, 561, 562, 563, 564,\n",
              "       565, 568, 569, 570, 571, 572, 574, 575, 576, 577, 578, 581, 583,\n",
              "       584, 585, 586, 587, 588, 590, 591, 592, 593, 594, 595, 596, 597,\n",
              "       600, 601, 602, 603, 604, 606, 607, 609, 610, 612, 613, 614, 615,\n",
              "       616, 620, 621, 622, 624, 625, 627, 628, 629, 631, 632, 633, 634,\n",
              "       635, 636, 637, 638, 639, 640, 641, 642, 644, 646, 647, 648, 649,\n",
              "       650, 651, 652, 653, 654, 655, 656, 657, 658, 659, 660, 663, 664,\n",
              "       665, 666, 667, 668, 669, 672, 673, 674, 675, 676, 678, 679, 680,\n",
              "       681, 683, 684, 686, 687, 688, 689, 690, 692, 693, 694, 695, 696,\n",
              "       697, 698, 699, 701, 702, 703, 704, 705, 706, 707, 708, 710, 711,\n",
              "       712, 714, 715, 716, 717, 718, 719, 720, 723, 724, 725, 727, 728,\n",
              "       729, 730, 731, 732, 733, 734, 735, 736, 737, 738, 740, 741, 743,\n",
              "       745, 749, 752, 753, 754, 755, 756, 757, 758, 759, 760, 761, 762,\n",
              "       763, 764, 765, 766, 767, 769, 770, 771, 772, 773, 774, 775, 776,\n",
              "       777, 779, 781, 782, 783, 784, 785, 787, 788, 789, 792, 794, 796,\n",
              "       797, 798, 799, 800, 801, 802, 803, 804, 805, 806, 807, 808, 809,\n",
              "       812, 813, 814, 815, 816, 817, 818, 819, 820, 821, 823, 824, 825,\n",
              "       826, 827, 828, 829, 830, 831, 832, 833, 834, 835, 836, 837, 838,\n",
              "       839, 841, 843, 844, 845, 846, 847, 848, 849, 850, 851, 853, 854,\n",
              "       855, 856, 857, 858, 859, 860, 862, 863, 864, 865, 866, 867, 868,\n",
              "       870, 872, 873, 874, 875, 876, 877, 879, 880, 883, 884, 886, 887,\n",
              "       888, 889, 890, 891, 892, 893, 894, 895, 896, 897, 898, 899, 900,\n",
              "       901, 902, 903, 904, 905, 906, 908, 909, 911, 912, 913, 914, 915,\n",
              "       917, 918, 919, 921, 922, 923, 924, 925, 927, 928, 930, 931, 932,\n",
              "       933, 935, 936, 937, 938, 939, 940, 941, 942, 945, 946, 947, 949,\n",
              "       950, 951, 952, 954, 955, 956, 957, 958, 960, 961, 962, 963, 967,\n",
              "       970, 974, 975, 976, 978, 979, 980, 981, 982, 985, 988, 989, 990,\n",
              "       991, 992, 995, 996, 997, 998])"
            ]
          },
          "metadata": {},
          "execution_count": 30
        }
      ]
    },
    {
      "cell_type": "code",
      "source": [
        "dbscan.components_"
      ],
      "metadata": {
        "colab": {
          "base_uri": "https://localhost:8080/"
        },
        "id": "E7IrAxVAGPFG",
        "outputId": "d88aa488-7cc2-4a95-91fa-a0a73b834a84"
      },
      "execution_count": 31,
      "outputs": [
        {
          "output_type": "execute_result",
          "data": {
            "text/plain": [
              "array([[ 0.292021  , -0.22491662],\n",
              "       [ 1.61175235, -0.36465843],\n",
              "       [ 1.9083362 ,  0.11937692],\n",
              "       ...,\n",
              "       [ 0.59152733, -0.42612988],\n",
              "       [ 0.47959728, -0.22567984],\n",
              "       [ 0.81300211,  0.64439349]])"
            ]
          },
          "metadata": {},
          "execution_count": 31
        }
      ]
    },
    {
      "cell_type": "code",
      "source": [
        "from sklearn.neighbors import KNeighborsClassifier\n",
        "\n",
        "knn = KNeighborsClassifier(n_neighbors=50)\n",
        "knn.fit(dbscan.components_, dbscan.labels_[dbscan.core_sample_indices_])"
      ],
      "metadata": {
        "colab": {
          "base_uri": "https://localhost:8080/",
          "height": 75
        },
        "id": "uRxAi7AfGTK7",
        "outputId": "34cc76a5-92c0-4dc5-80d6-587f38d84aa4"
      },
      "execution_count": 32,
      "outputs": [
        {
          "output_type": "execute_result",
          "data": {
            "text/plain": [
              "KNeighborsClassifier(n_neighbors=50)"
            ],
            "text/html": [
              "<style>#sk-container-id-5 {color: black;}#sk-container-id-5 pre{padding: 0;}#sk-container-id-5 div.sk-toggleable {background-color: white;}#sk-container-id-5 label.sk-toggleable__label {cursor: pointer;display: block;width: 100%;margin-bottom: 0;padding: 0.3em;box-sizing: border-box;text-align: center;}#sk-container-id-5 label.sk-toggleable__label-arrow:before {content: \"▸\";float: left;margin-right: 0.25em;color: #696969;}#sk-container-id-5 label.sk-toggleable__label-arrow:hover:before {color: black;}#sk-container-id-5 div.sk-estimator:hover label.sk-toggleable__label-arrow:before {color: black;}#sk-container-id-5 div.sk-toggleable__content {max-height: 0;max-width: 0;overflow: hidden;text-align: left;background-color: #f0f8ff;}#sk-container-id-5 div.sk-toggleable__content pre {margin: 0.2em;color: black;border-radius: 0.25em;background-color: #f0f8ff;}#sk-container-id-5 input.sk-toggleable__control:checked~div.sk-toggleable__content {max-height: 200px;max-width: 100%;overflow: auto;}#sk-container-id-5 input.sk-toggleable__control:checked~label.sk-toggleable__label-arrow:before {content: \"▾\";}#sk-container-id-5 div.sk-estimator input.sk-toggleable__control:checked~label.sk-toggleable__label {background-color: #d4ebff;}#sk-container-id-5 div.sk-label input.sk-toggleable__control:checked~label.sk-toggleable__label {background-color: #d4ebff;}#sk-container-id-5 input.sk-hidden--visually {border: 0;clip: rect(1px 1px 1px 1px);clip: rect(1px, 1px, 1px, 1px);height: 1px;margin: -1px;overflow: hidden;padding: 0;position: absolute;width: 1px;}#sk-container-id-5 div.sk-estimator {font-family: monospace;background-color: #f0f8ff;border: 1px dotted black;border-radius: 0.25em;box-sizing: border-box;margin-bottom: 0.5em;}#sk-container-id-5 div.sk-estimator:hover {background-color: #d4ebff;}#sk-container-id-5 div.sk-parallel-item::after {content: \"\";width: 100%;border-bottom: 1px solid gray;flex-grow: 1;}#sk-container-id-5 div.sk-label:hover label.sk-toggleable__label {background-color: #d4ebff;}#sk-container-id-5 div.sk-serial::before {content: \"\";position: absolute;border-left: 1px solid gray;box-sizing: border-box;top: 0;bottom: 0;left: 50%;z-index: 0;}#sk-container-id-5 div.sk-serial {display: flex;flex-direction: column;align-items: center;background-color: white;padding-right: 0.2em;padding-left: 0.2em;position: relative;}#sk-container-id-5 div.sk-item {position: relative;z-index: 1;}#sk-container-id-5 div.sk-parallel {display: flex;align-items: stretch;justify-content: center;background-color: white;position: relative;}#sk-container-id-5 div.sk-item::before, #sk-container-id-5 div.sk-parallel-item::before {content: \"\";position: absolute;border-left: 1px solid gray;box-sizing: border-box;top: 0;bottom: 0;left: 50%;z-index: -1;}#sk-container-id-5 div.sk-parallel-item {display: flex;flex-direction: column;z-index: 1;position: relative;background-color: white;}#sk-container-id-5 div.sk-parallel-item:first-child::after {align-self: flex-end;width: 50%;}#sk-container-id-5 div.sk-parallel-item:last-child::after {align-self: flex-start;width: 50%;}#sk-container-id-5 div.sk-parallel-item:only-child::after {width: 0;}#sk-container-id-5 div.sk-dashed-wrapped {border: 1px dashed gray;margin: 0 0.4em 0.5em 0.4em;box-sizing: border-box;padding-bottom: 0.4em;background-color: white;}#sk-container-id-5 div.sk-label label {font-family: monospace;font-weight: bold;display: inline-block;line-height: 1.2em;}#sk-container-id-5 div.sk-label-container {text-align: center;}#sk-container-id-5 div.sk-container {/* jupyter's `normalize.less` sets `[hidden] { display: none; }` but bootstrap.min.css set `[hidden] { display: none !important; }` so we also need the `!important` here to be able to override the default hidden behavior on the sphinx rendered scikit-learn.org. See: https://github.com/scikit-learn/scikit-learn/issues/21755 */display: inline-block !important;position: relative;}#sk-container-id-5 div.sk-text-repr-fallback {display: none;}</style><div id=\"sk-container-id-5\" class=\"sk-top-container\"><div class=\"sk-text-repr-fallback\"><pre>KNeighborsClassifier(n_neighbors=50)</pre><b>In a Jupyter environment, please rerun this cell to show the HTML representation or trust the notebook. <br />On GitHub, the HTML representation is unable to render, please try loading this page with nbviewer.org.</b></div><div class=\"sk-container\" hidden><div class=\"sk-item\"><div class=\"sk-estimator sk-toggleable\"><input class=\"sk-toggleable__control sk-hidden--visually\" id=\"sk-estimator-id-5\" type=\"checkbox\" checked><label for=\"sk-estimator-id-5\" class=\"sk-toggleable__label sk-toggleable__label-arrow\">KNeighborsClassifier</label><div class=\"sk-toggleable__content\"><pre>KNeighborsClassifier(n_neighbors=50)</pre></div></div></div></div></div>"
            ]
          },
          "metadata": {},
          "execution_count": 32
        }
      ]
    },
    {
      "cell_type": "code",
      "source": [
        "X_new = np.array([[-0.5, 0], [0, 0.5], [1, -0.1], [2, 1]])\n",
        "print(knn.predict(X_new))\n",
        "print(knn.predict_proba(X_new))"
      ],
      "metadata": {
        "colab": {
          "base_uri": "https://localhost:8080/"
        },
        "id": "RloJUZ19HGir",
        "outputId": "6dbfab9b-5624-42b8-ed05-55a8d448dae7"
      },
      "execution_count": 33,
      "outputs": [
        {
          "output_type": "stream",
          "name": "stdout",
          "text": [
            "[5 0 3 2]\n",
            "[[0.12 0.   0.   0.   0.02 0.78 0.08 0.   0.  ]\n",
            " [0.94 0.   0.   0.   0.04 0.   0.   0.   0.02]\n",
            " [0.28 0.   0.   0.72 0.   0.   0.   0.   0.  ]\n",
            " [0.   0.   1.   0.   0.   0.   0.   0.   0.  ]]\n"
          ]
        }
      ]
    },
    {
      "cell_type": "code",
      "source": [
        "y_dist, y_pred_idx = knn.kneighbors(X_new, n_neighbors=1)\n",
        "y_pred = dbscan.labels_[dbscan.core_sample_indices_][y_pred_idx]\n",
        "y_pred[y_dist > 0.2] = -1\n",
        "y_pred.ravel()"
      ],
      "metadata": {
        "colab": {
          "base_uri": "https://localhost:8080/"
        },
        "id": "oMUEnu14HeiZ",
        "outputId": "a73da3ea-2120-4d7f-9657-7ed29e784759"
      },
      "execution_count": 34,
      "outputs": [
        {
          "output_type": "execute_result",
          "data": {
            "text/plain": [
              "array([-1,  8,  3, -1])"
            ]
          },
          "metadata": {},
          "execution_count": 34
        }
      ]
    },
    {
      "cell_type": "code",
      "source": [],
      "metadata": {
        "id": "SUxU3npPIUjm"
      },
      "execution_count": 34,
      "outputs": []
    }
  ]
}